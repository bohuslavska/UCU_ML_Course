{
 "cells": [
  {
   "cell_type": "code",
   "execution_count": 107,
   "id": "JeHIg4PeGuhP",
   "metadata": {
    "id": "JeHIg4PeGuhP",
    "tags": []
   },
   "outputs": [],
   "source": [
    "# ! pip install -U unstructured\n",
    "# ! pip install langchain-community\n",
    "# ! pip install sentence-transformers\n",
    "# ! pip install faiss-cpu\n",
    "# ! pip install -U langchain-core langchain-mistralai\n",
    "# ! pip install mistralai\n",
    "# ! pip install pdfminer"
   ]
  },
  {
   "cell_type": "code",
   "execution_count": 108,
   "id": "7a5953c4-f7f7-47db-86f0-37fab872eca5",
   "metadata": {},
   "outputs": [],
   "source": [
    "import numpy as np\n",
    "from langchain_community.document_loaders import UnstructuredURLLoader\n",
    "from langchain.text_splitter import CharacterTextSplitter, RecursiveCharacterTextSplitter\n",
    "from langchain_community.document_loaders.pdf import PyPDFLoader, PyPDFDirectoryLoader\n",
    "from langchain.text_splitter import RecursiveCharacterTextSplitter\n",
    "from langchain.vectorstores import FAISS\n",
    "from langchain.embeddings import HuggingFaceEmbeddings\n",
    "from mistralai.client import MistralClient\n",
    "from mistralai.models.chat_completion import ChatMessage\n",
    "from langchain_core.messages import HumanMessage\n",
    "from langchain_mistralai.chat_models import ChatMistralAI\n",
    "from langchain.prompts import PromptTemplate\n",
    "from langchain.chains import RetrievalQA\n",
    "from urllib.request import urlretrieve\n",
    "from keys import MISTRAL_KEY, OPENAI_KEY\n",
    "import warnings\n",
    "warnings.filterwarnings('ignore')"
   ]
  },
  {
   "cell_type": "markdown",
   "id": "79eb626d717e8175",
   "metadata": {
    "id": "79eb626d717e8175"
   },
   "source": [
    "# Data Parsing"
   ]
  },
  {
   "attachments": {},
   "cell_type": "markdown",
   "id": "06ea5ba3-1c5d-4e48-98c9-7c9ef0578012",
   "metadata": {},
   "source": [
    "### PDF and URL Sources About the Propaganda Techniques (21 sources in total)"
   ]
  },
  {
   "cell_type": "code",
   "execution_count": 109,
   "id": "0cc011d6-c754-4d97-a82b-e6f818d62b2f",
   "metadata": {
    "tags": []
   },
   "outputs": [],
   "source": [
    "#PDFs\n",
    "\n",
    "pdf_documents = [\n",
    "    \"https://www.bxscience.edu/ourpages/auto/2010/5/10/56085562/propaganda.pdf\",\n",
    "    \"https://todosobrelacorte.wordpress.com/wp-content/uploads/2012/11/teninbaum-reductio-ad-hitlerum.pdf\",\n",
    "    \"https://files.eric.ed.gov/fulltext/EJ1046525.pdf\"]\n",
    "\n",
    "#URLs\n",
    "url_documents = [\n",
    "    \"https://en.wikipedia.org/wiki/Straw_man\",\n",
    "    \"https://en.wikipedia.org/wiki/Red_herring\",\n",
    "    \"https://en.wikipedia.org/wiki/Whataboutism\",\n",
    "    \"https://en.wikipedia.org/wiki/Fallacy_of_the_single_cause\",\n",
    "    \"https://en.wikipedia.org/wiki/Obfuscation\",\n",
    "    \"https://en.wikipedia.org/wiki/Argument_from_authority\",\n",
    "    \"https://disinfo.detector.media/en/post/how-russian-propaganda-uses-flag-waving-tactics\",\n",
    "    \"https://en.wikipedia.org/wiki/Fear,_uncertainty,_and_doubt\",\n",
    "    \"https://en.wikipedia.org/wiki/Appeal_to_fear\",\n",
    "    \"https://psychology.org.au/about-us/news-and-media/aps-in-the-media/2024/explaining-thought-terminating-cliches-and-why-we\",\n",
    "    \"https://en.wikipedia.org/wiki/Thought-terminating_clich%C3%A9\",\n",
    "    \"https://en.wikipedia.org/wiki/Bandwagon_effect\",\n",
    "    \"https://en.wikipedia.org/wiki/Reductio_ad_Hitlerum\",\n",
    "    \"https://propaganda.qcri.org/annotations/definitions.html\",\n",
    "    \"https://en.wikipedia.org/wiki/Name_calling\",\n",
    "    \"https://en.wikipedia.org/wiki/Loaded_language\", \n",
    "    \"https://en.wikipedia.org/wiki/Exaggeration\",\n",
    "    \"https://en.wikipedia.org/wiki/Slogan\"]"
   ]
  },
  {
   "cell_type": "markdown",
   "id": "478ca834-27ae-44f2-8e1e-9249642cf119",
   "metadata": {},
   "source": [
    "### Parsing"
   ]
  },
  {
   "cell_type": "code",
   "execution_count": 110,
   "id": "Xb8zFHKuG1WC",
   "metadata": {
    "colab": {
     "base_uri": "https://localhost:8080/"
    },
    "id": "Xb8zFHKuG1WC",
    "outputId": "8d86fe92-6e0e-4426-ff9b-137dab2437a0",
    "tags": []
   },
   "outputs": [
    {
     "name": "stdout",
     "output_type": "stream",
     "text": [
      "Type: <class 'list'> Length: 18\n"
     ]
    }
   ],
   "source": [
    "#Parse URLs via UnstructuredURLLoader from Langchain framework.\n",
    "\n",
    "loader = UnstructuredURLLoader(urls=url_documents)\n",
    "docs = loader.load()\n",
    "print('Type:', type(docs), 'Length:', len(docs))"
   ]
  },
  {
   "cell_type": "code",
   "execution_count": 111,
   "id": "3ad3a424-8a78-4bfa-a80b-8fe6361a4f6c",
   "metadata": {
    "tags": []
   },
   "outputs": [
    {
     "name": "stdout",
     "output_type": "stream",
     "text": [
      "Type: <class 'list'> Length: 52\n"
     ]
    }
   ],
   "source": [
    "#Parse URLs via PyPDFDirectoryLoader from Langchain framework.\n",
    "#Unfortunately, UnstructuredURLLoader did not give good results.\n",
    "\n",
    "os.makedirs(\"pdf_storage\", exist_ok=True)\n",
    "for url in pdf_documents:\n",
    "    file_path = os.path.join(\"pdf_storage\", url.rpartition(\"/\")[2])\n",
    "    urlretrieve(url, file_path)\n",
    "\n",
    "load = PyPDFDirectoryLoader(\"./pdf_storage/\")\n",
    "documents = load.load()\n",
    "print('Type:', type(documents), 'Length:', len(documents))"
   ]
  },
  {
   "cell_type": "code",
   "execution_count": 112,
   "id": "b500f7ba-87ca-4eca-8322-be1c20610a4f",
   "metadata": {
    "tags": []
   },
   "outputs": [
    {
     "data": {
      "text/plain": [
       "70"
      ]
     },
     "execution_count": 112,
     "metadata": {},
     "output_type": "execute_result"
    }
   ],
   "source": [
    "#Make one global source of propaganda knowledge.\n",
    "\n",
    "united_docs = docs + documents\n",
    "len(united_docs)"
   ]
  },
  {
   "cell_type": "markdown",
   "id": "be959572e1b2a906",
   "metadata": {
    "id": "be959572e1b2a906"
   },
   "source": [
    "# Data Splitting "
   ]
  },
  {
   "cell_type": "code",
   "execution_count": 113,
   "id": "c09a5575547f9716",
   "metadata": {
    "ExecuteTime": {
     "end_time": "2024-04-10T10:11:56.544004600Z",
     "start_time": "2024-04-10T10:11:56.535004500Z"
    },
    "id": "c09a5575547f9716",
    "tags": []
   },
   "outputs": [
    {
     "name": "stdout",
     "output_type": "stream",
     "text": [
      "We received 1278 in total.\n"
     ]
    }
   ],
   "source": [
    "#Split the documents into chunks and choose appropriate text separators.\n",
    "\n",
    "text_splitter = RecursiveCharacterTextSplitter(\n",
    "    chunk_size=500,\n",
    "    chunk_overlap=50,\n",
    "    separators=[\"\\n\\n\", \"\\n\", \".\", \"!\", \"?\", \",\", \" \", \"\"],\n",
    ")\n",
    "\n",
    "chunks = text_splitter.split_documents(united_docs)\n",
    "print(f'We received {len(chunks)} in total.')"
   ]
  },
  {
   "cell_type": "code",
   "execution_count": 114,
   "id": "8b4bb08a0e81cd58",
   "metadata": {
    "ExecuteTime": {
     "end_time": "2024-04-10T10:12:00.714408600Z",
     "start_time": "2024-04-10T10:12:00.698410Z"
    },
    "colab": {
     "base_uri": "https://localhost:8080/"
    },
    "id": "8b4bb08a0e81cd58",
    "outputId": "efa055aa-f320-4422-b793-737c8ab65761",
    "tags": []
   },
   "outputs": [
    {
     "data": {
      "text/plain": [
       "Document(page_content='what they attack, or pretend what they attack.)\\n\\nLuther\\'s Latin text does not use the phrase \"man of straw\". This is used in a widespread early 20th century English translation of his work, the Philadelphia Edition[23]\\n\\nMy answer is, that this sort of argument is common to all those who write against Luther. They assert the very things they assail, or they set up a man of straw whom they may attack.[24][25]', metadata={'source': 'https://en.wikipedia.org/wiki/Straw_man'})"
      ]
     },
     "execution_count": 114,
     "metadata": {},
     "output_type": "execute_result"
    }
   ],
   "source": [
    "#One of the chunks.\n",
    "chunks[33]"
   ]
  },
  {
   "cell_type": "code",
   "execution_count": 115,
   "id": "89ec09b2-4271-49a3-8c25-c30f89f0617a",
   "metadata": {},
   "outputs": [
    {
     "name": "stdout",
     "output_type": "stream",
     "text": [
      "Average length among 70 documents loaded is 6811 characters.\n",
      "After the split we have 1278 chunks.\n",
      "Average length among 1278 documents (after split) is 379 characters.\n"
     ]
    }
   ],
   "source": [
    "#Some statistics about the chunks.\n",
    "\n",
    "avg_doc_length = lambda docu: sum([len(d.page_content) for d in docu])//len(docu)\n",
    "avg_char_count_pre = avg_doc_length(united_docs)\n",
    "avg_char_count_post = avg_doc_length(chunks)\n",
    "print(f'Average length among {len(united_docs)} documents loaded is {avg_char_count_pre} characters.')\n",
    "print(f'After the split we have {len(chunks)} chunks.')\n",
    "print(f'Average length among {len(chunks)} documents (after split) is {avg_char_count_post} characters.')"
   ]
  },
  {
   "cell_type": "markdown",
   "id": "db10f0286bc6542d",
   "metadata": {
    "id": "db10f0286bc6542d"
   },
   "source": [
    "# Embeddings"
   ]
  },
  {
   "cell_type": "code",
   "execution_count": 116,
   "id": "2100d2eb099d1466",
   "metadata": {
    "ExecuteTime": {
     "end_time": "2024-04-10T10:38:31.123831500Z",
     "start_time": "2024-04-10T10:38:30.557691100Z"
    },
    "colab": {
     "base_uri": "https://localhost:8080/"
    },
    "id": "2100d2eb099d1466",
    "outputId": "9f90d68a-434c-4132-d65e-047ee7b7fda1",
    "tags": []
   },
   "outputs": [],
   "source": [
    "#Use all-MiniLM-L6-v2 to make the embeddings.\n",
    "\n",
    "modelPath = \"sentence-transformers/all-MiniLM-l6-v2\"\n",
    "model_kwargs = {'device':'cpu'}\n",
    "encode_kwargs = {'normalize_embeddings': False}\n",
    "\n",
    "#Initialize an instance of HuggingFaceEmbeddings with the specified parameters.\n",
    "embeddings = HuggingFaceEmbeddings(\n",
    "    model_name=modelPath,     # Provide the pre-trained model's path\n",
    "    model_kwargs=model_kwargs, # Pass the model configuration options\n",
    "    encode_kwargs=encode_kwargs # Pass the encoding options\n",
    ")\n",
    "\n",
    "#Save vectors to the local database.\n",
    "vectorstore_faiss = FAISS.from_documents(chunks, embeddings)\n",
    "vectorstore_faiss.save_local(folder_path=\"faiss_db_v3\")"
   ]
  },
  {
   "cell_type": "code",
   "execution_count": 117,
   "id": "70e84c1d9b5a6925",
   "metadata": {
    "ExecuteTime": {
     "end_time": "2024-04-10T10:38:34.385227800Z",
     "start_time": "2024-04-10T10:38:34.122213200Z"
    },
    "colab": {
     "base_uri": "https://localhost:8080/"
    },
    "id": "70e84c1d9b5a6925",
    "outputId": "acfd28b0-8c8e-462d-f7fe-b68b07ecf0fc",
    "tags": []
   },
   "outputs": [],
   "source": [
    "#Example of the database usage for similarity_search.\n",
    "\n",
    "test_query = \"What is red hearing?\"\n",
    "searchDocs = vectorstore_faiss.similarity_search(test_query)"
   ]
  },
  {
   "cell_type": "code",
   "execution_count": 118,
   "id": "05804801-ad66-47da-96c6-a777fb5dfab9",
   "metadata": {},
   "outputs": [
    {
     "data": {
      "text/plain": [
       "[(Document(page_content='expression “red herring.”84  Like a hound, those subjected to a red herring \\nargument are led away from the issue th at had been the focus of the discus-\\nsion and urged to follow an observation or claim that may be associated with the original claim, but is not highly relevant to the truth of the issue in \\ndispute.\\n85 \\nOne example of a RAH red he rring argument appeared in Liebovitz v. \\nNew York City Transit Authority ,86 where a “highly-regarded member of', metadata={'source': 'pdf_storage/teninbaum-reductio-ad-hitlerum.pdf', 'page': 15}),\n",
       "  1.1416141),\n",
       " (Document(page_content='Until 2008,[13] the figurative sense of \"red herring\" was thought to originate from a supposed technique of training young scent hounds.[13] There are variations of the story, but according to one version, the pungent red herring would be dragged along a trail until a puppy learned to follow the scent', metadata={'source': 'https://en.wikipedia.org/wiki/Red_herring'}),\n",
       "  1.200485),\n",
       " (Document(page_content='^ \"Episode 148: Hair of the Dog\". MythBusters Results. Archived from the original on 31 December 2021. Retrieved 25 January 2023.\\n\\nExternal links[edit]\\n\\nThe dictionary definition of red herring at Wiktionary', metadata={'source': 'https://en.wikipedia.org/wiki/Red_herring'}),\n",
       "  1.2081687),\n",
       " (Document(page_content='556 Michigan State Law Review  [Vol. 2009:541 \\n 2.  The Red Herring \\nFox hunting is a tough sport.  Trainers must finely hone their hounds’ \\ninstincts so that the animals can track  a fox over great distances.  The hunt \\nbecomes all the more difficult when, to divert the hounds from the fox \\nscent, a pungent herring, red in color, is drawn across the path of the fox’s \\nscent to distract the hounds from the trail.  From this practice comes the', metadata={'source': 'pdf_storage/teninbaum-reductio-ad-hitlerum.pdf', 'page': 15}),\n",
       "  1.2187891)]"
      ]
     },
     "execution_count": 118,
     "metadata": {},
     "output_type": "execute_result"
    }
   ],
   "source": [
    "#Similarity_search_with_score allows to return not only the documents but also the distance score of the query to them.\n",
    "#The returned distance score is L2 distance.\n",
    "\n",
    "searchDocs = vectorstore_faiss.similarity_search_with_score(test_query)\n",
    "searchDocs"
   ]
  },
  {
   "cell_type": "code",
   "execution_count": 119,
   "id": "9f218b1b-a9eb-44a0-86d2-16c44747b825",
   "metadata": {},
   "outputs": [
    {
     "name": "stdout",
     "output_type": "stream",
     "text": [
      "4 documents are fetched which are relevant to the query.\n",
      "----\n",
      "## Document 1: expression “red herring.”84  Like a hound, those subjected to a red herring \n",
      "argument are led away from the issue th at had been the focus of the discus-\n",
      "sion and urged to follow an observation or claim that may be associated with the original claim, but is not highly relevant to the truth of the issue in \n",
      "dispute.\n",
      "85 \n",
      "One example of a RAH red he rring argument appeared in Liebovitz v. \n",
      "New York City Transit Authority ,86 where a “highly-regarded member of.......\n",
      "---\n",
      "## Document 2: Until 2008,[13] the figurative sense of \"red herring\" was thought to originate from a supposed technique of training young scent hounds.[13] There are variations of the story, but according to one version, the pungent red herring would be dragged along a trail until a puppy learned to follow the scent.......\n",
      "---\n",
      "## Document 3: ^ \"Episode 148: Hair of the Dog\". MythBusters Results. Archived from the original on 31 December 2021. Retrieved 25 January 2023.\n",
      "\n",
      "External links[edit]\n",
      "\n",
      "The dictionary definition of red herring at Wiktionary.......\n",
      "---\n",
      "## Document 4: 556 Michigan State Law Review  [Vol. 2009:541 \n",
      " 2.  The Red Herring \n",
      "Fox hunting is a tough sport.  Trainers must finely hone their hounds’ \n",
      "instincts so that the animals can track  a fox over great distances.  The hunt \n",
      "becomes all the more difficult when, to divert the hounds from the fox \n",
      "scent, a pungent herring, red in color, is drawn across the path of the fox’s \n",
      "scent to distract the hounds from the trail.  From this practice comes the.......\n",
      "---\n"
     ]
    }
   ],
   "source": [
    "#Example of the database usage for similarity search by vector.\n",
    "\n",
    "query_embedding = vectorstore_faiss.embedding_function.embed_query(test_query)\n",
    "relevant_documents = vectorstore_faiss.similarity_search_by_vector(query_embedding)\n",
    "print(f'{len(relevant_documents)} documents are fetched which are relevant to the query.')\n",
    "print('----')\n",
    "for i, rel_doc in enumerate(relevant_documents):\n",
    "    print(f'## Document {i+1}: {rel_doc.page_content}.......')\n",
    "    print('---')"
   ]
  },
  {
   "cell_type": "markdown",
   "id": "2f974a8fd1d9b529",
   "metadata": {
    "id": "2f974a8fd1d9b529"
   },
   "source": [
    "## LLM"
   ]
  },
  {
   "cell_type": "code",
   "execution_count": 120,
   "id": "Nhcv9ltj1yOM",
   "metadata": {
    "id": "Nhcv9ltj1yOM",
    "tags": []
   },
   "outputs": [
    {
     "data": {
      "text/plain": [
       "AIMessage(content=\"The capital of Ukraine is Kyiv. It's a beautiful city known for its religious architecture, secular monuments, and history museums. Kyiv is located in the north central part of the country and is a significant industrial, scientific, educational, and cultural center of Eastern Europe.\", response_metadata={'token_usage': {'prompt_tokens': 10, 'total_tokens': 69, 'completion_tokens': 59}, 'model': 'mistral-large-latest', 'finish_reason': 'stop'}, id='run-b11a3204-4bfe-406c-880b-2a47e181e28d-0')"
      ]
     },
     "execution_count": 120,
     "metadata": {},
     "output_type": "execute_result"
    }
   ],
   "source": [
    "#Invoke Mistral Model via Langchain.\n",
    "\n",
    "MISTRAL_API_KEY = MISTRAL_KEY\n",
    "model = \"mistral-large-latest\"\n",
    "llm = ChatMistralAI(api_key=MISTRAL_API_KEY, model = model)\n",
    "messages = [HumanMessage(content=\"What is the capital of Ukraine?\")]\n",
    "llm.invoke(messages)"
   ]
  },
  {
   "cell_type": "markdown",
   "id": "5105baed1ea66ae7",
   "metadata": {
    "id": "5105baed1ea66ae7"
   },
   "source": [
    "# RAG Test"
   ]
  },
  {
   "cell_type": "code",
   "execution_count": 121,
   "id": "e08adb5fd14b372e",
   "metadata": {
    "ExecuteTime": {
     "end_time": "2024-04-10T11:08:29.486642700Z",
     "start_time": "2024-04-10T11:08:29.469589400Z"
    },
    "colab": {
     "base_uri": "https://localhost:8080/"
    },
    "id": "e08adb5fd14b372e",
    "outputId": "177d9811-7470-4de2-c978-f8fb8e9e4394",
    "tags": []
   },
   "outputs": [
    {
     "name": "stdout",
     "output_type": "stream",
     "text": [
      "The term \"red herring\" is a figurative expression used to describe a logical fallacy or a diversionary tactic. It refers to an argument or piece of information that is introduced to mislead or distract from the main issue or point of discussion. This misdirection is similar to how a pungent red herring (a strongly smoked fish) was once used to train young scent hounds, leading them away from the original scent they were supposed to follow. In a debate or argument, a red herring leads the conversation away from the central topic, focusing instead on a less relevant or unrelated matter. An example of this can be found in the case of Liebovitz v. New York City Transit Authority, where such a tactic was employed.\n"
     ]
    }
   ],
   "source": [
    "#Test our retrieval system with simple prompt and query.\n",
    "\n",
    "prompt_template = \"\"\"\n",
    "\n",
    "Human: Use the following pieces of context to provide a concise answer to the question at the end.\n",
    "If you don't know the answer, just say that you don't know, don't try to make up an answer. Provide examples if possible.\n",
    "<context>\n",
    "{context}\n",
    "</context\n",
    "\n",
    "Question: {question}\n",
    "\n",
    "Assistant:\"\"\"\n",
    "\n",
    "PROMPT = PromptTemplate(\n",
    "    template=prompt_template, input_variables=[\"context\", \"question\"]\n",
    ")\n",
    "\n",
    "#Let's return 3 the most relevant documents.\n",
    "\n",
    "qa = RetrievalQA.from_chain_type(\n",
    "    llm=llm,\n",
    "    chain_type=\"stuff\",\n",
    "    retriever=vectorstore_faiss.as_retriever(\n",
    "        search_type=\"similarity\", search_kwargs={\"k\": 3}),\n",
    "    return_source_documents=True,\n",
    "    chain_type_kwargs={\"prompt\": PROMPT}\n",
    ")\n",
    "answer = qa({\"query\": test_query})\n",
    "print(answer['result'])"
   ]
  },
  {
   "cell_type": "code",
   "execution_count": 122,
   "id": "cd05e7aa66097775",
   "metadata": {
    "ExecuteTime": {
     "end_time": "2024-04-10T11:12:15.151724400Z",
     "start_time": "2024-04-10T11:12:15.133726500Z"
    },
    "colab": {
     "base_uri": "https://localhost:8080/"
    },
    "id": "cd05e7aa66097775",
    "outputId": "284ffab5-d2e7-42f0-d66c-47602507161d",
    "tags": []
   },
   "outputs": [
    {
     "data": {
      "text/plain": [
       "[{'source': 'pdf_storage/teninbaum-reductio-ad-hitlerum.pdf', 'page': 15},\n",
       " {'source': 'https://en.wikipedia.org/wiki/Red_herring'},\n",
       " {'source': 'https://en.wikipedia.org/wiki/Red_herring'}]"
      ]
     },
     "execution_count": 122,
     "metadata": {},
     "output_type": "execute_result"
    }
   ],
   "source": [
    "#Checking sources of this answer.\n",
    "\n",
    "[doc.metadata for doc in answer[\"source_documents\"]]"
   ]
  },
  {
   "cell_type": "markdown",
   "id": "723421d9-cf6c-420b-8a23-81f156ed71bb",
   "metadata": {
    "id": "I8_6ZfjkBdni"
   },
   "source": [
    "# Loading "
   ]
  },
  {
   "cell_type": "code",
   "execution_count": 123,
   "id": "48e73f08-d953-4a65-9a0c-e19a82fb211f",
   "metadata": {
    "tags": []
   },
   "outputs": [],
   "source": [
    "#Load a FAISS index to ensure that there is no need to recreate the entire process.\n",
    "\n",
    "docsearch = FAISS.load_local(\"faiss_db_v3\", embeddings, allow_dangerous_deserialization = True)"
   ]
  },
  {
   "cell_type": "code",
   "execution_count": 124,
   "id": "0f187d71-5d13-4ecf-91b7-579eaac4cd85",
   "metadata": {
    "tags": []
   },
   "outputs": [
    {
     "data": {
      "text/plain": [
       "[Document(page_content='expression “red herring.”84  Like a hound, those subjected to a red herring \\nargument are led away from the issue th at had been the focus of the discus-\\nsion and urged to follow an observation or claim that may be associated with the original claim, but is not highly relevant to the truth of the issue in \\ndispute.\\n85 \\nOne example of a RAH red he rring argument appeared in Liebovitz v. \\nNew York City Transit Authority ,86 where a “highly-regarded member of', metadata={'source': 'pdf_storage/teninbaum-reductio-ad-hitlerum.pdf', 'page': 15}),\n",
       " Document(page_content='Until 2008,[13] the figurative sense of \"red herring\" was thought to originate from a supposed technique of training young scent hounds.[13] There are variations of the story, but according to one version, the pungent red herring would be dragged along a trail until a puppy learned to follow the scent', metadata={'source': 'https://en.wikipedia.org/wiki/Red_herring'}),\n",
       " Document(page_content='^ \"Episode 148: Hair of the Dog\". MythBusters Results. Archived from the original on 31 December 2021. Retrieved 25 January 2023.\\n\\nExternal links[edit]\\n\\nThe dictionary definition of red herring at Wiktionary', metadata={'source': 'https://en.wikipedia.org/wiki/Red_herring'}),\n",
       " Document(page_content='556 Michigan State Law Review  [Vol. 2009:541 \\n 2.  The Red Herring \\nFox hunting is a tough sport.  Trainers must finely hone their hounds’ \\ninstincts so that the animals can track  a fox over great distances.  The hunt \\nbecomes all the more difficult when, to divert the hounds from the fox \\nscent, a pungent herring, red in color, is drawn across the path of the fox’s \\nscent to distract the hounds from the trail.  From this practice comes the', metadata={'source': 'pdf_storage/teninbaum-reductio-ad-hitlerum.pdf', 'page': 15})]"
      ]
     },
     "execution_count": 124,
     "metadata": {},
     "output_type": "execute_result"
    }
   ],
   "source": [
    "#Let's test it.\n",
    "\n",
    "searchDocs = docsearch.similarity_search(test_query)\n",
    "searchDocs"
   ]
  }
 ],
 "metadata": {
  "availableInstances": [
   {
    "_defaultOrder": 0,
    "_isFastLaunch": true,
    "category": "General purpose",
    "gpuNum": 0,
    "hideHardwareSpecs": false,
    "memoryGiB": 4,
    "name": "ml.t3.medium",
    "vcpuNum": 2
   },
   {
    "_defaultOrder": 1,
    "_isFastLaunch": false,
    "category": "General purpose",
    "gpuNum": 0,
    "hideHardwareSpecs": false,
    "memoryGiB": 8,
    "name": "ml.t3.large",
    "vcpuNum": 2
   },
   {
    "_defaultOrder": 2,
    "_isFastLaunch": false,
    "category": "General purpose",
    "gpuNum": 0,
    "hideHardwareSpecs": false,
    "memoryGiB": 16,
    "name": "ml.t3.xlarge",
    "vcpuNum": 4
   },
   {
    "_defaultOrder": 3,
    "_isFastLaunch": false,
    "category": "General purpose",
    "gpuNum": 0,
    "hideHardwareSpecs": false,
    "memoryGiB": 32,
    "name": "ml.t3.2xlarge",
    "vcpuNum": 8
   },
   {
    "_defaultOrder": 4,
    "_isFastLaunch": true,
    "category": "General purpose",
    "gpuNum": 0,
    "hideHardwareSpecs": false,
    "memoryGiB": 8,
    "name": "ml.m5.large",
    "vcpuNum": 2
   },
   {
    "_defaultOrder": 5,
    "_isFastLaunch": false,
    "category": "General purpose",
    "gpuNum": 0,
    "hideHardwareSpecs": false,
    "memoryGiB": 16,
    "name": "ml.m5.xlarge",
    "vcpuNum": 4
   },
   {
    "_defaultOrder": 6,
    "_isFastLaunch": false,
    "category": "General purpose",
    "gpuNum": 0,
    "hideHardwareSpecs": false,
    "memoryGiB": 32,
    "name": "ml.m5.2xlarge",
    "vcpuNum": 8
   },
   {
    "_defaultOrder": 7,
    "_isFastLaunch": false,
    "category": "General purpose",
    "gpuNum": 0,
    "hideHardwareSpecs": false,
    "memoryGiB": 64,
    "name": "ml.m5.4xlarge",
    "vcpuNum": 16
   },
   {
    "_defaultOrder": 8,
    "_isFastLaunch": false,
    "category": "General purpose",
    "gpuNum": 0,
    "hideHardwareSpecs": false,
    "memoryGiB": 128,
    "name": "ml.m5.8xlarge",
    "vcpuNum": 32
   },
   {
    "_defaultOrder": 9,
    "_isFastLaunch": false,
    "category": "General purpose",
    "gpuNum": 0,
    "hideHardwareSpecs": false,
    "memoryGiB": 192,
    "name": "ml.m5.12xlarge",
    "vcpuNum": 48
   },
   {
    "_defaultOrder": 10,
    "_isFastLaunch": false,
    "category": "General purpose",
    "gpuNum": 0,
    "hideHardwareSpecs": false,
    "memoryGiB": 256,
    "name": "ml.m5.16xlarge",
    "vcpuNum": 64
   },
   {
    "_defaultOrder": 11,
    "_isFastLaunch": false,
    "category": "General purpose",
    "gpuNum": 0,
    "hideHardwareSpecs": false,
    "memoryGiB": 384,
    "name": "ml.m5.24xlarge",
    "vcpuNum": 96
   },
   {
    "_defaultOrder": 12,
    "_isFastLaunch": false,
    "category": "General purpose",
    "gpuNum": 0,
    "hideHardwareSpecs": false,
    "memoryGiB": 8,
    "name": "ml.m5d.large",
    "vcpuNum": 2
   },
   {
    "_defaultOrder": 13,
    "_isFastLaunch": false,
    "category": "General purpose",
    "gpuNum": 0,
    "hideHardwareSpecs": false,
    "memoryGiB": 16,
    "name": "ml.m5d.xlarge",
    "vcpuNum": 4
   },
   {
    "_defaultOrder": 14,
    "_isFastLaunch": false,
    "category": "General purpose",
    "gpuNum": 0,
    "hideHardwareSpecs": false,
    "memoryGiB": 32,
    "name": "ml.m5d.2xlarge",
    "vcpuNum": 8
   },
   {
    "_defaultOrder": 15,
    "_isFastLaunch": false,
    "category": "General purpose",
    "gpuNum": 0,
    "hideHardwareSpecs": false,
    "memoryGiB": 64,
    "name": "ml.m5d.4xlarge",
    "vcpuNum": 16
   },
   {
    "_defaultOrder": 16,
    "_isFastLaunch": false,
    "category": "General purpose",
    "gpuNum": 0,
    "hideHardwareSpecs": false,
    "memoryGiB": 128,
    "name": "ml.m5d.8xlarge",
    "vcpuNum": 32
   },
   {
    "_defaultOrder": 17,
    "_isFastLaunch": false,
    "category": "General purpose",
    "gpuNum": 0,
    "hideHardwareSpecs": false,
    "memoryGiB": 192,
    "name": "ml.m5d.12xlarge",
    "vcpuNum": 48
   },
   {
    "_defaultOrder": 18,
    "_isFastLaunch": false,
    "category": "General purpose",
    "gpuNum": 0,
    "hideHardwareSpecs": false,
    "memoryGiB": 256,
    "name": "ml.m5d.16xlarge",
    "vcpuNum": 64
   },
   {
    "_defaultOrder": 19,
    "_isFastLaunch": false,
    "category": "General purpose",
    "gpuNum": 0,
    "hideHardwareSpecs": false,
    "memoryGiB": 384,
    "name": "ml.m5d.24xlarge",
    "vcpuNum": 96
   },
   {
    "_defaultOrder": 20,
    "_isFastLaunch": false,
    "category": "General purpose",
    "gpuNum": 0,
    "hideHardwareSpecs": true,
    "memoryGiB": 0,
    "name": "ml.geospatial.interactive",
    "supportedImageNames": [
     "sagemaker-geospatial-v1-0"
    ],
    "vcpuNum": 0
   },
   {
    "_defaultOrder": 21,
    "_isFastLaunch": true,
    "category": "Compute optimized",
    "gpuNum": 0,
    "hideHardwareSpecs": false,
    "memoryGiB": 4,
    "name": "ml.c5.large",
    "vcpuNum": 2
   },
   {
    "_defaultOrder": 22,
    "_isFastLaunch": false,
    "category": "Compute optimized",
    "gpuNum": 0,
    "hideHardwareSpecs": false,
    "memoryGiB": 8,
    "name": "ml.c5.xlarge",
    "vcpuNum": 4
   },
   {
    "_defaultOrder": 23,
    "_isFastLaunch": false,
    "category": "Compute optimized",
    "gpuNum": 0,
    "hideHardwareSpecs": false,
    "memoryGiB": 16,
    "name": "ml.c5.2xlarge",
    "vcpuNum": 8
   },
   {
    "_defaultOrder": 24,
    "_isFastLaunch": false,
    "category": "Compute optimized",
    "gpuNum": 0,
    "hideHardwareSpecs": false,
    "memoryGiB": 32,
    "name": "ml.c5.4xlarge",
    "vcpuNum": 16
   },
   {
    "_defaultOrder": 25,
    "_isFastLaunch": false,
    "category": "Compute optimized",
    "gpuNum": 0,
    "hideHardwareSpecs": false,
    "memoryGiB": 72,
    "name": "ml.c5.9xlarge",
    "vcpuNum": 36
   },
   {
    "_defaultOrder": 26,
    "_isFastLaunch": false,
    "category": "Compute optimized",
    "gpuNum": 0,
    "hideHardwareSpecs": false,
    "memoryGiB": 96,
    "name": "ml.c5.12xlarge",
    "vcpuNum": 48
   },
   {
    "_defaultOrder": 27,
    "_isFastLaunch": false,
    "category": "Compute optimized",
    "gpuNum": 0,
    "hideHardwareSpecs": false,
    "memoryGiB": 144,
    "name": "ml.c5.18xlarge",
    "vcpuNum": 72
   },
   {
    "_defaultOrder": 28,
    "_isFastLaunch": false,
    "category": "Compute optimized",
    "gpuNum": 0,
    "hideHardwareSpecs": false,
    "memoryGiB": 192,
    "name": "ml.c5.24xlarge",
    "vcpuNum": 96
   },
   {
    "_defaultOrder": 29,
    "_isFastLaunch": true,
    "category": "Accelerated computing",
    "gpuNum": 1,
    "hideHardwareSpecs": false,
    "memoryGiB": 16,
    "name": "ml.g4dn.xlarge",
    "vcpuNum": 4
   },
   {
    "_defaultOrder": 30,
    "_isFastLaunch": false,
    "category": "Accelerated computing",
    "gpuNum": 1,
    "hideHardwareSpecs": false,
    "memoryGiB": 32,
    "name": "ml.g4dn.2xlarge",
    "vcpuNum": 8
   },
   {
    "_defaultOrder": 31,
    "_isFastLaunch": false,
    "category": "Accelerated computing",
    "gpuNum": 1,
    "hideHardwareSpecs": false,
    "memoryGiB": 64,
    "name": "ml.g4dn.4xlarge",
    "vcpuNum": 16
   },
   {
    "_defaultOrder": 32,
    "_isFastLaunch": false,
    "category": "Accelerated computing",
    "gpuNum": 1,
    "hideHardwareSpecs": false,
    "memoryGiB": 128,
    "name": "ml.g4dn.8xlarge",
    "vcpuNum": 32
   },
   {
    "_defaultOrder": 33,
    "_isFastLaunch": false,
    "category": "Accelerated computing",
    "gpuNum": 4,
    "hideHardwareSpecs": false,
    "memoryGiB": 192,
    "name": "ml.g4dn.12xlarge",
    "vcpuNum": 48
   },
   {
    "_defaultOrder": 34,
    "_isFastLaunch": false,
    "category": "Accelerated computing",
    "gpuNum": 1,
    "hideHardwareSpecs": false,
    "memoryGiB": 256,
    "name": "ml.g4dn.16xlarge",
    "vcpuNum": 64
   },
   {
    "_defaultOrder": 35,
    "_isFastLaunch": false,
    "category": "Accelerated computing",
    "gpuNum": 1,
    "hideHardwareSpecs": false,
    "memoryGiB": 61,
    "name": "ml.p3.2xlarge",
    "vcpuNum": 8
   },
   {
    "_defaultOrder": 36,
    "_isFastLaunch": false,
    "category": "Accelerated computing",
    "gpuNum": 4,
    "hideHardwareSpecs": false,
    "memoryGiB": 244,
    "name": "ml.p3.8xlarge",
    "vcpuNum": 32
   },
   {
    "_defaultOrder": 37,
    "_isFastLaunch": false,
    "category": "Accelerated computing",
    "gpuNum": 8,
    "hideHardwareSpecs": false,
    "memoryGiB": 488,
    "name": "ml.p3.16xlarge",
    "vcpuNum": 64
   },
   {
    "_defaultOrder": 38,
    "_isFastLaunch": false,
    "category": "Accelerated computing",
    "gpuNum": 8,
    "hideHardwareSpecs": false,
    "memoryGiB": 768,
    "name": "ml.p3dn.24xlarge",
    "vcpuNum": 96
   },
   {
    "_defaultOrder": 39,
    "_isFastLaunch": false,
    "category": "Memory Optimized",
    "gpuNum": 0,
    "hideHardwareSpecs": false,
    "memoryGiB": 16,
    "name": "ml.r5.large",
    "vcpuNum": 2
   },
   {
    "_defaultOrder": 40,
    "_isFastLaunch": false,
    "category": "Memory Optimized",
    "gpuNum": 0,
    "hideHardwareSpecs": false,
    "memoryGiB": 32,
    "name": "ml.r5.xlarge",
    "vcpuNum": 4
   },
   {
    "_defaultOrder": 41,
    "_isFastLaunch": false,
    "category": "Memory Optimized",
    "gpuNum": 0,
    "hideHardwareSpecs": false,
    "memoryGiB": 64,
    "name": "ml.r5.2xlarge",
    "vcpuNum": 8
   },
   {
    "_defaultOrder": 42,
    "_isFastLaunch": false,
    "category": "Memory Optimized",
    "gpuNum": 0,
    "hideHardwareSpecs": false,
    "memoryGiB": 128,
    "name": "ml.r5.4xlarge",
    "vcpuNum": 16
   },
   {
    "_defaultOrder": 43,
    "_isFastLaunch": false,
    "category": "Memory Optimized",
    "gpuNum": 0,
    "hideHardwareSpecs": false,
    "memoryGiB": 256,
    "name": "ml.r5.8xlarge",
    "vcpuNum": 32
   },
   {
    "_defaultOrder": 44,
    "_isFastLaunch": false,
    "category": "Memory Optimized",
    "gpuNum": 0,
    "hideHardwareSpecs": false,
    "memoryGiB": 384,
    "name": "ml.r5.12xlarge",
    "vcpuNum": 48
   },
   {
    "_defaultOrder": 45,
    "_isFastLaunch": false,
    "category": "Memory Optimized",
    "gpuNum": 0,
    "hideHardwareSpecs": false,
    "memoryGiB": 512,
    "name": "ml.r5.16xlarge",
    "vcpuNum": 64
   },
   {
    "_defaultOrder": 46,
    "_isFastLaunch": false,
    "category": "Memory Optimized",
    "gpuNum": 0,
    "hideHardwareSpecs": false,
    "memoryGiB": 768,
    "name": "ml.r5.24xlarge",
    "vcpuNum": 96
   },
   {
    "_defaultOrder": 47,
    "_isFastLaunch": false,
    "category": "Accelerated computing",
    "gpuNum": 1,
    "hideHardwareSpecs": false,
    "memoryGiB": 16,
    "name": "ml.g5.xlarge",
    "vcpuNum": 4
   },
   {
    "_defaultOrder": 48,
    "_isFastLaunch": false,
    "category": "Accelerated computing",
    "gpuNum": 1,
    "hideHardwareSpecs": false,
    "memoryGiB": 32,
    "name": "ml.g5.2xlarge",
    "vcpuNum": 8
   },
   {
    "_defaultOrder": 49,
    "_isFastLaunch": false,
    "category": "Accelerated computing",
    "gpuNum": 1,
    "hideHardwareSpecs": false,
    "memoryGiB": 64,
    "name": "ml.g5.4xlarge",
    "vcpuNum": 16
   },
   {
    "_defaultOrder": 50,
    "_isFastLaunch": false,
    "category": "Accelerated computing",
    "gpuNum": 1,
    "hideHardwareSpecs": false,
    "memoryGiB": 128,
    "name": "ml.g5.8xlarge",
    "vcpuNum": 32
   },
   {
    "_defaultOrder": 51,
    "_isFastLaunch": false,
    "category": "Accelerated computing",
    "gpuNum": 1,
    "hideHardwareSpecs": false,
    "memoryGiB": 256,
    "name": "ml.g5.16xlarge",
    "vcpuNum": 64
   },
   {
    "_defaultOrder": 52,
    "_isFastLaunch": false,
    "category": "Accelerated computing",
    "gpuNum": 4,
    "hideHardwareSpecs": false,
    "memoryGiB": 192,
    "name": "ml.g5.12xlarge",
    "vcpuNum": 48
   },
   {
    "_defaultOrder": 53,
    "_isFastLaunch": false,
    "category": "Accelerated computing",
    "gpuNum": 4,
    "hideHardwareSpecs": false,
    "memoryGiB": 384,
    "name": "ml.g5.24xlarge",
    "vcpuNum": 96
   },
   {
    "_defaultOrder": 54,
    "_isFastLaunch": false,
    "category": "Accelerated computing",
    "gpuNum": 8,
    "hideHardwareSpecs": false,
    "memoryGiB": 768,
    "name": "ml.g5.48xlarge",
    "vcpuNum": 192
   },
   {
    "_defaultOrder": 55,
    "_isFastLaunch": false,
    "category": "Accelerated computing",
    "gpuNum": 8,
    "hideHardwareSpecs": false,
    "memoryGiB": 1152,
    "name": "ml.p4d.24xlarge",
    "vcpuNum": 96
   },
   {
    "_defaultOrder": 56,
    "_isFastLaunch": false,
    "category": "Accelerated computing",
    "gpuNum": 8,
    "hideHardwareSpecs": false,
    "memoryGiB": 1152,
    "name": "ml.p4de.24xlarge",
    "vcpuNum": 96
   },
   {
    "_defaultOrder": 57,
    "_isFastLaunch": false,
    "category": "Accelerated computing",
    "gpuNum": 0,
    "hideHardwareSpecs": false,
    "memoryGiB": 32,
    "name": "ml.trn1.2xlarge",
    "vcpuNum": 8
   },
   {
    "_defaultOrder": 58,
    "_isFastLaunch": false,
    "category": "Accelerated computing",
    "gpuNum": 0,
    "hideHardwareSpecs": false,
    "memoryGiB": 512,
    "name": "ml.trn1.32xlarge",
    "vcpuNum": 128
   },
   {
    "_defaultOrder": 59,
    "_isFastLaunch": false,
    "category": "Accelerated computing",
    "gpuNum": 0,
    "hideHardwareSpecs": false,
    "memoryGiB": 512,
    "name": "ml.trn1n.32xlarge",
    "vcpuNum": 128
   }
  ],
  "colab": {
   "provenance": []
  },
  "instance_type": "ml.t3.2xlarge",
  "kernelspec": {
   "display_name": "Python 3 (Data Science 3.0)",
   "language": "python",
   "name": "python3__SAGEMAKER_INTERNAL__arn:aws:sagemaker:eu-central-1:936697816551:image/sagemaker-data-science-310-v1"
  },
  "language_info": {
   "codemirror_mode": {
    "name": "ipython",
    "version": 3
   },
   "file_extension": ".py",
   "mimetype": "text/x-python",
   "name": "python",
   "nbconvert_exporter": "python",
   "pygments_lexer": "ipython3",
   "version": "3.10.6"
  }
 },
 "nbformat": 4,
 "nbformat_minor": 5
}
